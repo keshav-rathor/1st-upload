{
 "cells": [
  {
   "cell_type": "code",
   "execution_count": 40,
   "metadata": {
    "collapsed": false
   },
   "outputs": [],
   "source": [
    "%matplotlib notebook\n",
    "import os\n",
    "import xml.etree.ElementTree as ET\n",
    "import matplotlib.pyplot as plt\n",
    "import matplotlib.image as mpimg\n",
    "#import scipy.misc\n",
    "import numpy as np\n",
    "from PIL import Image\n",
    "from six.moves import xrange\n",
    "\n",
    "tag_dir = './tag/tag_hierarchy'\n",
    "thumb_dir = './tag'\n",
    "image_dir = './data'\n",
    "image_size = 256"
   ]
  },
  {
   "cell_type": "code",
   "execution_count": 52,
   "metadata": {
    "collapsed": false
   },
   "outputs": [
    {
     "name": "stdout",
     "output_type": "stream",
     "text": [
      "Class tagdata is moved to package tagio.tag to support external access.\n"
     ]
    }
   ],
   "source": [
    "\"\"\"\n",
    "absolutely no use...\n",
    "# tag xml parser\n",
    "ImageFeatures = {}\n",
    "MainImageFeatures = {}\n",
    "AllTags = {}\n",
    "class tagdata:\n",
    "    def __init__(self, path='', imagedir=''):\n",
    "        # init\n",
    "        self.xml = None\n",
    "        self.name = ''\n",
    "        self.path = path\n",
    "        #self.ImagePath = ''\n",
    "        #self.ResizeImagePath = ''\n",
    "        self.ImageDir = imagedir\n",
    "        self.ImageFeatures = []\n",
    "        self.MainImageFeatures = []\n",
    "        self.tags = []\n",
    "        if path != '':\n",
    "            self.load(path, imagedir)\n",
    "    \n",
    "    def load(self, path, imagedir):\n",
    "        self.xml = ET.parse(path)\n",
    "        root = self.xml.getroot()\n",
    "        self.name = root.attrib['path'] + root.attrib['filename']\n",
    "        #self.ImagePath = root.attrib['path'] + root.attrib['filename'] + '.png'\n",
    "        #self.ImagePath = self.ImagePath.replace('./', '')\n",
    "        self.ImagePath = os.path.join(imagedir, self.name)\n",
    "        for tag in root.iter('tag'):\n",
    "            self.tags.append(tag.text)\n",
    "            if not tag.text in AllTags:\n",
    "                AllTags[tag.text] = 1\n",
    "            else:\n",
    "                AllTags[tag.text] = AllTags[tag.text] + 1\n",
    "        feature = None\n",
    "        for feat in root.findall('primary_category'):\n",
    "            if feat.attrib['name'] == 'Scattering features in image':\n",
    "                feature = feat\n",
    "                break\n",
    "        if feature != None:\n",
    "            for row_tag in feature.iter('row_tag'):\n",
    "                mainfeat = row_tag.attrib['name']\n",
    "                self.MainImageFeatures.append(mainfeat)\n",
    "                if not mainfeat in MainImageFeatures:\n",
    "                    MainImageFeatures[mainfeat] = 1\n",
    "                else:\n",
    "                    MainImageFeatures[mainfeat] = MainImageFeatures[mainfeat] + 1\n",
    "            for tag in feature.iter('tag'):\n",
    "                self.ImageFeatures.append(tag.text)\n",
    "                if not tag.text in ImageFeatures:\n",
    "                    ImageFeatures[tag.text] = 1\n",
    "                else:\n",
    "                    ImageFeatures[tag.text] = ImageFeatures[tag.text] + 1\n",
    "\"\"\"\n",
    "from tagio.tag import tagdata, AllTags, ImageFeatures, MainImageFeatures\n",
    "print('Class tagdata is moved to package tagio.tag to support external access.')"
   ]
  },
  {
   "cell_type": "code",
   "execution_count": 49,
   "metadata": {
    "collapsed": false
   },
   "outputs": [],
   "source": [
    "# load all the tag files in a directory\n",
    "def fetch_tag_filelist(tag_dir):\n",
    "    tag_list = []\n",
    "    for root, dirs, files in os.walk(tag_dir):\n",
    "        for name in files:\n",
    "            filename, extname = os.path.splitext(name)\n",
    "            if extname == '.tag':\n",
    "                tag_list.append(os.path.join(root, name))\n",
    "    return tag_list\n",
    "\n",
    "\n",
    "# resize images and construct the image dictionary\n",
    "def preprocess_image(tags, size, output_file, checkAvail=False):\n",
    "    list_fail = []\n",
    "    counter_success = 0\n",
    "    output = {}\n",
    "    for _, tag in tags.items():\n",
    "        if not os.path.isfile(tag.ImagePath):\n",
    "            list_fail.append(tag.ImagePath)\n",
    "            continue\n",
    "        #ResizeImagePath = os.path.join(pre_dir, tag.name + '.npy')\n",
    "        #tag.ResizeImagePath = ResizeImagePath\n",
    "        # generate a filelist only if checkAvail flag is toggled on\n",
    "        if not checkAvail:\n",
    "            #img = mpimg.imread(tag.ImagePath)\n",
    "            # discard alpha channel\n",
    "            #img = scipy.misc.imresize(img, (size, size))\n",
    "            #np.save(ResizeImagePath, img)\n",
    "            img = Image.open(tag.ImagePath)\n",
    "            img = img.resize((size, size))\n",
    "            output[tag.name] = img\n",
    "        counter_success = counter_success + 1\n",
    "    if not checkAvail:\n",
    "        np.save(output_file, output)\n",
    "    return counter_success, list_fail"
   ]
  },
  {
   "cell_type": "code",
   "execution_count": 50,
   "metadata": {
    "collapsed": false
   },
   "outputs": [],
   "source": [
    "tag_list = fetch_tag_filelist(tag_dir)\n",
    "tags = {}\n",
    "for tagfile in tag_list:\n",
    "    #tag.append(tagdata(tagfile, './tag'))\n",
    "    tag = tagdata(tagfile, image_dir)\n",
    "    tags[tag.name] = tag"
   ]
  },
  {
   "cell_type": "code",
   "execution_count": 53,
   "metadata": {
    "collapsed": false
   },
   "outputs": [
    {
     "name": "stdout",
     "output_type": "stream",
     "text": [
      "2385 images, 2833 tags\n"
     ]
    },
    {
     "data": {
      "text/plain": [
       "{'Diffuse high-q': 386,\n",
       " 'Diffuse low-q': 362,\n",
       " 'Halo': 995,\n",
       " 'Higher orders': 1172,\n",
       " 'Peaks': 1409,\n",
       " 'Ring': 1593,\n",
       " 'Symmetry ring': 55}"
      ]
     },
     "execution_count": 53,
     "metadata": {},
     "output_type": "execute_result"
    }
   ],
   "source": [
    "print('%d images, %d tags' % (len(data), len(tags)))\n",
    "# note that the stats here are not accurate b/c not all tags have the corresponding image data\n",
    "MainImageFeatures"
   ]
  },
  {
   "cell_type": "code",
   "execution_count": 30,
   "metadata": {
    "collapsed": false
   },
   "outputs": [
    {
     "data": {
      "text/plain": [
       "2385"
      ]
     },
     "execution_count": 30,
     "metadata": {},
     "output_type": "execute_result"
    }
   ],
   "source": [
    "# save tags and image data\n",
    "np.save('./pre/tags.npy', tags)\n",
    "n, f = preprocess_image(tags, image_size, './pre/data.npy', checkAvail=False)\n",
    "n"
   ]
  },
  {
   "cell_type": "code",
   "execution_count": 11,
   "metadata": {
    "collapsed": false
   },
   "outputs": [
    {
     "name": "stdout",
     "output_type": "stream",
     "text": [
      "936 positive, 1449 negative\n"
     ]
    }
   ],
   "source": [
    "# load tags and image data\n",
    "import dataset_loader as loader\n",
    "import importlib\n",
    "\n",
    "loader = importlib.reload(loader)\n",
    "tags = np.atleast_1d(np.load('./pre/tags.npy'))[0]\n",
    "data = np.atleast_1d(np.load('./pre/data.npy'))[0]\n",
    "dataset = loader.read_data_sets(data, tags, 'Halo')\n",
    "pos = [x for x in xrange(dataset.train._labels.shape[0]) if dataset.train._labels[x] == 1]\n",
    "neg = [x for x in xrange(dataset.train._labels.shape[0]) if dataset.train._labels[x] == 0]\n",
    "print('%d positive, %d negative' % (len(pos), len(neg)))"
   ]
  },
  {
   "cell_type": "code",
   "execution_count": 41,
   "metadata": {
    "collapsed": false
   },
   "outputs": [],
   "source": [
    "# visualize a few samples\n",
    "from ipywidgets import interact\n",
    "from IPython.core.display import display, HTML\n",
    "%matplotlib inline\n",
    "\n",
    "\n",
    "def browse_images(images, size, tags=None, names=''):\n",
    "    n = images.shape[0]\n",
    "    def view_image(i):\n",
    "        #plt.imshow(np.resize(images[i,:], size), cmap=plt.cm.gray_r, interpolation='nearest')\n",
    "        if tags:\n",
    "            print(tags[i])\n",
    "        plt.imshow(np.resize(images[i,:], size), interpolation='nearest')\n",
    "        if isinstance(names, list):\n",
    "            #plt.title(names[i])\n",
    "            xmlpath = os.path.join(tag_dir, names[i] + '.tag')\n",
    "            thumbpath = os.path.join(thumb_dir, names[i] + '.png')\n",
    "            #print(xmlpath)\n",
    "            display(HTML('<a href=\"' + \n",
    "                         xmlpath + '\" target=\"_blank\">tag</a>&nbsp;' +\n",
    "                         '<a href =\"' + \n",
    "                         thumbpath + '\" target=\"_blank\">thumb</a>'))\n",
    "        else:\n",
    "            plt.title('%s %d' % (names, i))\n",
    "        plt.show()\n",
    "    interact(view_image, i=(0,n-1))"
   ]
  },
  {
   "cell_type": "code",
   "execution_count": 42,
   "metadata": {
    "collapsed": false
   },
   "outputs": [
    {
     "name": "stdout",
     "output_type": "stream",
     "text": [
      "['Diffuse low-q']\n"
     ]
    },
    {
     "data": {
      "text/html": [
       "<a href=\"./tag/tag_hierarchy/./CFN_SoftBio_group/2011June04-Cubes_GISAXS/TDP_th007_spot2_20sec_SAXS.tag\" target=\"_blank\">tag</a>&nbsp;<a href =\"./tag/./CFN_SoftBio_group/2011June04-Cubes_GISAXS/TDP_th007_spot2_20sec_SAXS.png\" target=\"_blank\">thumb</a>"
      ],
      "text/plain": [
       "<IPython.core.display.HTML object>"
      ]
     },
     "metadata": {},
     "output_type": "display_data"
    },
    {
     "data": {
      "image/png": "[encoded data removed]",
      "text/plain": [
       "<matplotlib.figure.Figure at 0x7f3a2af630f0>"
      ]
     },
     "metadata": {},
     "output_type": "display_data"
    }
   ],
   "source": [
    "browse_images(dataset.train._images, (image_size, image_size), \n",
    "              tags=dataset.train._raw_labels, names=dataset.train._names)"
   ]
  },
  {
   "cell_type": "code",
   "execution_count": 17,
   "metadata": {
    "collapsed": false
   },
   "outputs": [
    {
     "data": {
      "image/png": "[encoded data removed]",
      "text/plain": [
       "<matplotlib.figure.Figure at 0x7f3a2b2b6390>"
      ]
     },
     "metadata": {},
     "output_type": "display_data"
    }
   ],
   "source": [
    "browse_images(dataset.train._images[pos,:], (image_size, image_size), names='Positive')"
   ]
  },
  {
   "cell_type": "code",
   "execution_count": 18,
   "metadata": {
    "collapsed": false
   },
   "outputs": [
    {
     "data": {
      "image/png": "[encoded data removed]",
      "text/plain": [
       "<matplotlib.figure.Figure at 0x7f3a2ab79320>"
      ]
     },
     "metadata": {},
     "output_type": "display_data"
    }
   ],
   "source": [
    "browse_images(dataset.train._images[neg,:], (image_size, image_size), names='Negative')"
   ]
  },
  {
   "cell_type": "code",
   "execution_count": null,
   "metadata": {
    "collapsed": true
   },
   "outputs": [],
   "source": []
  }
 ],
 "metadata": {
  "kernelspec": {
   "display_name": "Python 3",
   "language": "python",
   "name": "python3"
  },
  "language_info": {
   "codemirror_mode": {
    "name": "ipython",
    "version": 3
   },
   "file_extension": ".py",
   "mimetype": "text/x-python",
   "name": "python",
   "nbconvert_exporter": "python",
   "pygments_lexer": "ipython3",
   "version": "3.5.1"
  },
  "widgets": {
   "state": {},
   "version": "1.1.2"
  }
 },
 "nbformat": 4,
 "nbformat_minor": 0
}
